{
  "metadata": {
    "kernelspec": {
      "display_name": "Python 3",
      "language": "python",
      "name": "python3"
    },
    "language_info": {
      "name": "python",
      "version": "3.6.6",
      "mimetype": "text/x-python",
      "codemirror_mode": {
        "name": "ipython",
        "version": 3
      },
      "pygments_lexer": "ipython3",
      "nbconvert_exporter": "python",
      "file_extension": ".py"
    },
    "colab": {
      "provenance": [],
      "include_colab_link": true
    }
  },
  "nbformat_minor": 0,
  "nbformat": 4,
  "cells": [
    {
      "cell_type": "markdown",
      "metadata": {
        "id": "view-in-github",
        "colab_type": "text"
      },
      "source": [
        "<a href=\"https://colab.research.google.com/github/UtkarshBhatt6/plant-disease-identification-using-cnn/blob/main/plant_disease_identification_using_cnn.ipynb\" target=\"_parent\"><img src=\"https://colab.research.google.com/assets/colab-badge.svg\" alt=\"Open In Colab\"/></a>"
      ]
    },
    {
      "cell_type": "markdown",
      "source": [
        "Import neccessary packages"
      ],
      "metadata": {
        "_uuid": "1020827e241ac87ffdf8e0f8762a6885bdc28fbc",
        "id": "XweNUvXNcF7b"
      }
    },
    {
      "cell_type": "code",
      "source": [
        "import numpy as np\n",
        "import pickle\n",
        "import cv2\n",
        "from os import listdir\n",
        "from sklearn.preprocessing import LabelBinarizer\n",
        "from keras.models import Sequential\n",
        "from keras.layers.normalization import BatchNormalization\n",
        "from keras.layers.convolutional import Conv2D\n",
        "from keras.layers.convolutional import MaxPooling2D\n",
        "from keras.layers.core import Activation, Flatten, Dropout, Dense\n",
        "from keras import backend as K\n",
        "from keras.preprocessing.image import ImageDataGenerator\n",
        "from keras.optimizers import Adam\n",
        "from keras.preprocessing import image\n",
        "from keras.preprocessing.image import img_to_array\n",
        "from sklearn.preprocessing import MultiLabelBinarizer\n",
        "from sklearn.model_selection import train_test_split\n",
        "import matplotlib.pyplot as plt"
      ],
      "metadata": {
        "_uuid": "8f2839f25d086af736a60e9eeb907d3b93b6e0e5",
        "_cell_guid": "b1076dfc-b9ad-4769-8c92-a6c4dae69d19",
        "execution": {
          "iopub.status.busy": "2023-10-26T14:22:38.477897Z",
          "iopub.execute_input": "2023-10-26T14:22:38.478612Z",
          "iopub.status.idle": "2023-10-26T14:22:39.707422Z",
          "shell.execute_reply.started": "2023-10-26T14:22:38.478527Z",
          "shell.execute_reply": "2023-10-26T14:22:39.706236Z"
        },
        "trusted": true,
        "id": "wt8syVZ3cF7d",
        "outputId": "ef577720-dc2b-4853-a5cd-7d6d150b3e25"
      },
      "execution_count": null,
      "outputs": [
        {
          "name": "stderr",
          "text": "Using TensorFlow backend.\n",
          "output_type": "stream"
        }
      ]
    },
    {
      "cell_type": "code",
      "source": [
        "EPOCHS = 25\n",
        "INIT_LR = 1e-3\n",
        "BS = 32\n",
        "default_image_size = tuple((256, 256))\n",
        "image_size = 0\n",
        "directory_root = '../input/plantvillage/'\n",
        "width=256\n",
        "height=256\n",
        "depth=3"
      ],
      "metadata": {
        "_uuid": "7c3354a78e21a1a62ad0c4689d0ab3238fb760d4",
        "execution": {
          "iopub.status.busy": "2023-10-26T14:22:39.710042Z",
          "iopub.execute_input": "2023-10-26T14:22:39.710470Z",
          "iopub.status.idle": "2023-10-26T14:22:39.718840Z",
          "shell.execute_reply.started": "2023-10-26T14:22:39.710390Z",
          "shell.execute_reply": "2023-10-26T14:22:39.717418Z"
        },
        "trusted": true,
        "id": "zvSRhfGHcF7f"
      },
      "execution_count": null,
      "outputs": []
    },
    {
      "cell_type": "markdown",
      "source": [
        "Function to convert images to array"
      ],
      "metadata": {
        "_uuid": "2bf7ac0a0b805946f844a48e55d5281403e53f57",
        "id": "GJTZYNq0cF7g"
      }
    },
    {
      "cell_type": "code",
      "source": [
        "def convert_image_to_array(image_dir):\n",
        "    try:\n",
        "        image = cv2.imread(image_dir)\n",
        "        if image is not None :\n",
        "            image = cv2.resize(image, default_image_size)\n",
        "            return img_to_array(image)\n",
        "        else :\n",
        "            return np.array([])\n",
        "    except Exception as e:\n",
        "        print(f\"Error : {e}\")\n",
        "        return None"
      ],
      "metadata": {
        "_uuid": "c9c3e60b13ace6c8f3e54336e12f9970fde438a3",
        "execution": {
          "iopub.status.busy": "2023-10-26T14:22:39.722247Z",
          "iopub.execute_input": "2023-10-26T14:22:39.722643Z",
          "iopub.status.idle": "2023-10-26T14:22:39.733506Z",
          "shell.execute_reply.started": "2023-10-26T14:22:39.722566Z",
          "shell.execute_reply": "2023-10-26T14:22:39.731938Z"
        },
        "trusted": true,
        "id": "TSoSBhd8cF7g"
      },
      "execution_count": null,
      "outputs": []
    },
    {
      "cell_type": "markdown",
      "source": [
        "Fetch images from directory"
      ],
      "metadata": {
        "_uuid": "24d42b87fad54a9556f78357ce673cc5152468c1",
        "id": "xlFBb2qNcF7h"
      }
    },
    {
      "cell_type": "code",
      "source": [
        "image_list, label_list = [], []\n",
        "try:\n",
        "    print(\"[INFO] Loading images ...\")\n",
        "    root_dir = listdir(directory_root)\n",
        "    for directory in root_dir :\n",
        "        # remove .DS_Store from list\n",
        "        if directory == \".DS_Store\" :\n",
        "            root_dir.remove(directory)\n",
        "\n",
        "    for plant_folder in root_dir :\n",
        "        plant_disease_folder_list = listdir(f\"{directory_root}/{plant_folder}\")\n",
        "\n",
        "        for disease_folder in plant_disease_folder_list :\n",
        "            # remove .DS_Store from list\n",
        "            if disease_folder == \".DS_Store\" :\n",
        "                plant_disease_folder_list.remove(disease_folder)\n",
        "\n",
        "        for plant_disease_folder in plant_disease_folder_list:\n",
        "            print(f\"[INFO] Processing {plant_disease_folder} ...\")\n",
        "            plant_disease_image_list = listdir(f\"{directory_root}/{plant_folder}/{plant_disease_folder}/\")\n",
        "\n",
        "            for single_plant_disease_image in plant_disease_image_list :\n",
        "                if single_plant_disease_image == \".DS_Store\" :\n",
        "                    plant_disease_image_list.remove(single_plant_disease_image)\n",
        "\n",
        "            for image in plant_disease_image_list[:200]:\n",
        "                image_directory = f\"{directory_root}/{plant_folder}/{plant_disease_folder}/{image}\"\n",
        "                if image_directory.endswith(\".jpg\") == True or image_directory.endswith(\".JPG\") == True:\n",
        "                    image_list.append(convert_image_to_array(image_directory))\n",
        "                    label_list.append(plant_disease_folder)\n",
        "    print(\"[INFO] Image loading completed\")\n",
        "except Exception as e:\n",
        "    print(f\"Error : {e}\")"
      ],
      "metadata": {
        "_uuid": "bb8d4c343314028f52ae3c3a840478a834a16c95",
        "execution": {
          "iopub.status.busy": "2023-10-26T14:22:39.736487Z",
          "iopub.execute_input": "2023-10-26T14:22:39.736802Z",
          "iopub.status.idle": "2023-10-26T14:23:06.273997Z",
          "shell.execute_reply.started": "2023-10-26T14:22:39.736749Z",
          "shell.execute_reply": "2023-10-26T14:23:06.272760Z"
        },
        "trusted": true,
        "id": "TpAPKnNWcF7h",
        "outputId": "29b26bb3-5d8c-4253-848b-f2f581803e71"
      },
      "execution_count": null,
      "outputs": [
        {
          "name": "stdout",
          "text": "[INFO] Loading images ...\n[INFO] Processing Pepper__bell___Bacterial_spot ...\n[INFO] Processing Potato___healthy ...\n[INFO] Processing Tomato_Leaf_Mold ...\n[INFO] Processing Tomato__Tomato_YellowLeaf__Curl_Virus ...\n[INFO] Processing Tomato_Bacterial_spot ...\n[INFO] Processing Tomato_Septoria_leaf_spot ...\n[INFO] Processing Tomato_healthy ...\n[INFO] Processing Tomato_Spider_mites_Two_spotted_spider_mite ...\n[INFO] Processing Tomato_Early_blight ...\n[INFO] Processing Tomato__Target_Spot ...\n[INFO] Processing Pepper__bell___healthy ...\n[INFO] Processing Potato___Late_blight ...\n[INFO] Processing Tomato_Late_blight ...\n[INFO] Processing Potato___Early_blight ...\n[INFO] Processing Tomato__Tomato_mosaic_virus ...\n[INFO] Image loading completed\n",
          "output_type": "stream"
        }
      ]
    },
    {
      "cell_type": "markdown",
      "source": [
        "Get Size of Processed Image"
      ],
      "metadata": {
        "_uuid": "35c4b76d33e0263523e479657580104532f81d6e",
        "id": "irvah6IhcF7i"
      }
    },
    {
      "cell_type": "code",
      "source": [
        "image_size = len(image_list)"
      ],
      "metadata": {
        "_uuid": "6ee1ad9c422f112ec2862699b5c0f68b8d658123",
        "execution": {
          "iopub.status.busy": "2023-10-26T14:23:06.275551Z",
          "iopub.execute_input": "2023-10-26T14:23:06.276241Z",
          "iopub.status.idle": "2023-10-26T14:23:06.282187Z",
          "shell.execute_reply.started": "2023-10-26T14:23:06.276162Z",
          "shell.execute_reply": "2023-10-26T14:23:06.280661Z"
        },
        "trusted": true,
        "id": "eAFsm9UScF7i"
      },
      "execution_count": null,
      "outputs": []
    },
    {
      "cell_type": "markdown",
      "source": [
        "Transform Image Labels uisng [Scikit Learn](http://scikit-learn.org/)'s LabelBinarizer"
      ],
      "metadata": {
        "_uuid": "905b41b226f3fd82a88e67821eb42a07f24b31f7",
        "id": "QS-fa4YEcF7j"
      }
    },
    {
      "cell_type": "code",
      "source": [
        "label_binarizer = LabelBinarizer()\n",
        "image_labels = label_binarizer.fit_transform(label_list)\n",
        "pickle.dump(label_binarizer,open('label_transform.pkl', 'wb'))\n",
        "n_classes = len(label_binarizer.classes_)"
      ],
      "metadata": {
        "_uuid": "904ff893fe14f5060dd9e7be2ccf96ec793597e5",
        "execution": {
          "iopub.status.busy": "2023-10-26T14:23:06.283527Z",
          "iopub.execute_input": "2023-10-26T14:23:06.283881Z",
          "iopub.status.idle": "2023-10-26T14:23:06.311496Z",
          "shell.execute_reply.started": "2023-10-26T14:23:06.283816Z",
          "shell.execute_reply": "2023-10-26T14:23:06.310359Z"
        },
        "trusted": true,
        "id": "W2mrtGaycF7j"
      },
      "execution_count": null,
      "outputs": []
    },
    {
      "cell_type": "markdown",
      "source": [
        "Print the classes"
      ],
      "metadata": {
        "_uuid": "f860c29a1d714f06d25e6a0c5bca94739e5d24cc",
        "id": "zvOZwWr1cF7j"
      }
    },
    {
      "cell_type": "code",
      "source": [
        "print(label_binarizer.classes_)"
      ],
      "metadata": {
        "_uuid": "0f876397c40c3c8aa09772a92fd60481fc9ba268",
        "execution": {
          "iopub.status.busy": "2023-10-26T14:23:06.312839Z",
          "iopub.execute_input": "2023-10-26T14:23:06.313432Z",
          "iopub.status.idle": "2023-10-26T14:23:06.318898Z",
          "shell.execute_reply.started": "2023-10-26T14:23:06.313353Z",
          "shell.execute_reply": "2023-10-26T14:23:06.317794Z"
        },
        "trusted": true,
        "id": "6wlLnxiFcF7k",
        "outputId": "5485370c-6976-4296-acd2-d655137fe82e"
      },
      "execution_count": null,
      "outputs": [
        {
          "name": "stdout",
          "text": "['Pepper__bell___Bacterial_spot' 'Pepper__bell___healthy'\n 'Potato___Early_blight' 'Potato___Late_blight' 'Potato___healthy'\n 'Tomato_Bacterial_spot' 'Tomato_Early_blight' 'Tomato_Late_blight'\n 'Tomato_Leaf_Mold' 'Tomato_Septoria_leaf_spot'\n 'Tomato_Spider_mites_Two_spotted_spider_mite' 'Tomato__Target_Spot'\n 'Tomato__Tomato_YellowLeaf__Curl_Virus' 'Tomato__Tomato_mosaic_virus'\n 'Tomato_healthy']\n",
          "output_type": "stream"
        }
      ]
    },
    {
      "cell_type": "code",
      "source": [
        "np_image_list = np.array(image_list, dtype=np.float16) / 225.0"
      ],
      "metadata": {
        "_uuid": "6cd9c977b3d164a5570a0c24fdd8624adb9d56b8",
        "execution": {
          "iopub.status.busy": "2023-10-26T14:23:06.320145Z",
          "iopub.execute_input": "2023-10-26T14:23:06.320577Z",
          "iopub.status.idle": "2023-10-26T14:23:18.850551Z",
          "shell.execute_reply.started": "2023-10-26T14:23:06.320509Z",
          "shell.execute_reply": "2023-10-26T14:23:18.849285Z"
        },
        "trusted": true,
        "id": "wIVjdVHPcF7k"
      },
      "execution_count": null,
      "outputs": []
    },
    {
      "cell_type": "code",
      "source": [
        "print(\"[INFO] Spliting data to train, test\")\n",
        "x_train, x_test, y_train, y_test = train_test_split(np_image_list, image_labels, test_size=0.2, random_state = 42)"
      ],
      "metadata": {
        "_uuid": "9f4829560fdfa218cee18c1cfb2eb9452ef180e5",
        "execution": {
          "iopub.status.busy": "2023-10-26T14:23:18.851839Z",
          "iopub.execute_input": "2023-10-26T14:23:18.852209Z",
          "iopub.status.idle": "2023-10-26T14:23:20.237013Z",
          "shell.execute_reply.started": "2023-10-26T14:23:18.852140Z",
          "shell.execute_reply": "2023-10-26T14:23:20.235946Z"
        },
        "trusted": true,
        "id": "GqBTarhScF7k",
        "outputId": "e0a375ce-4b5e-499d-c613-5f5692697b35"
      },
      "execution_count": null,
      "outputs": [
        {
          "name": "stdout",
          "text": "[INFO] Spliting data to train, test\n",
          "output_type": "stream"
        }
      ]
    },
    {
      "cell_type": "code",
      "source": [
        "aug = ImageDataGenerator(\n",
        "    rotation_range=25, width_shift_range=0.1,\n",
        "    height_shift_range=0.1, shear_range=0.2,\n",
        "    zoom_range=0.2,horizontal_flip=True,\n",
        "    fill_mode=\"nearest\")"
      ],
      "metadata": {
        "_uuid": "eec8afa64e676d52c814fc8e096955a60f13b6c5",
        "execution": {
          "iopub.status.busy": "2023-10-26T14:23:20.238296Z",
          "iopub.execute_input": "2023-10-26T14:23:20.238585Z",
          "iopub.status.idle": "2023-10-26T14:23:20.244507Z",
          "shell.execute_reply.started": "2023-10-26T14:23:20.238535Z",
          "shell.execute_reply": "2023-10-26T14:23:20.243626Z"
        },
        "trusted": true,
        "id": "34GxnTSdcF7l"
      },
      "execution_count": null,
      "outputs": []
    },
    {
      "cell_type": "code",
      "source": [
        "model = Sequential()\n",
        "inputShape = (height, width, depth)\n",
        "chanDim = -1\n",
        "if K.image_data_format() == \"channels_first\":\n",
        "    inputShape = (depth, height, width)\n",
        "    chanDim = 1\n",
        "model.add(Conv2D(32, (3, 3), padding=\"same\",input_shape=inputShape))\n",
        "model.add(Activation(\"relu\"))\n",
        "model.add(BatchNormalization(axis=chanDim))\n",
        "model.add(MaxPooling2D(pool_size=(3, 3)))\n",
        "model.add(Dropout(0.25))\n",
        "model.add(Conv2D(64, (3, 3), padding=\"same\"))\n",
        "model.add(Activation(\"relu\"))\n",
        "model.add(BatchNormalization(axis=chanDim))\n",
        "model.add(Conv2D(64, (3, 3), padding=\"same\"))\n",
        "model.add(Activation(\"relu\"))\n",
        "model.add(BatchNormalization(axis=chanDim))\n",
        "model.add(MaxPooling2D(pool_size=(2, 2)))\n",
        "model.add(Dropout(0.25))\n",
        "model.add(Conv2D(128, (3, 3), padding=\"same\"))\n",
        "model.add(Activation(\"relu\"))\n",
        "model.add(BatchNormalization(axis=chanDim))\n",
        "model.add(Conv2D(128, (3, 3), padding=\"same\"))\n",
        "model.add(Activation(\"relu\"))\n",
        "model.add(BatchNormalization(axis=chanDim))\n",
        "model.add(MaxPooling2D(pool_size=(2, 2)))\n",
        "model.add(Dropout(0.25))\n",
        "model.add(Flatten())\n",
        "model.add(Dense(1024))\n",
        "model.add(Activation(\"relu\"))\n",
        "model.add(BatchNormalization())\n",
        "model.add(Dropout(0.5))\n",
        "model.add(Dense(n_classes))\n",
        "model.add(Activation(\"softmax\"))"
      ],
      "metadata": {
        "_cell_guid": "79c7e3d0-c299-4dcb-8224-4455121ee9b0",
        "_uuid": "d629ff2d2480ee46fbb7e2d37f6b5fab8052498a",
        "execution": {
          "iopub.status.busy": "2023-10-26T14:23:20.247521Z",
          "iopub.execute_input": "2023-10-26T14:23:20.248053Z",
          "iopub.status.idle": "2023-10-26T14:23:21.273801Z",
          "shell.execute_reply.started": "2023-10-26T14:23:20.247952Z",
          "shell.execute_reply": "2023-10-26T14:23:21.272530Z"
        },
        "trusted": true,
        "id": "5WAy_gTdcF7l"
      },
      "execution_count": null,
      "outputs": []
    },
    {
      "cell_type": "markdown",
      "source": [
        "Model Summary"
      ],
      "metadata": {
        "_uuid": "53b13c03e4cea6dc2453a84e254b806ebeed2d99",
        "id": "ZHH65566cF7l"
      }
    },
    {
      "cell_type": "code",
      "source": [
        "model.summary()"
      ],
      "metadata": {
        "_uuid": "1e1523a834fbf872940171fbdefb3dcce2b5f31b",
        "execution": {
          "iopub.status.busy": "2023-10-26T14:23:21.275488Z",
          "iopub.execute_input": "2023-10-26T14:23:21.275782Z",
          "iopub.status.idle": "2023-10-26T14:23:21.290440Z",
          "shell.execute_reply.started": "2023-10-26T14:23:21.275732Z",
          "shell.execute_reply": "2023-10-26T14:23:21.288598Z"
        },
        "trusted": true,
        "id": "9qR4U7fYcF7l",
        "outputId": "0637ed23-ade7-4f1f-db6f-47c4863448fa"
      },
      "execution_count": null,
      "outputs": [
        {
          "name": "stdout",
          "text": "_________________________________________________________________\nLayer (type)                 Output Shape              Param #   \n=================================================================\nconv2d_1 (Conv2D)            (None, 256, 256, 32)      896       \n_________________________________________________________________\nactivation_1 (Activation)    (None, 256, 256, 32)      0         \n_________________________________________________________________\nbatch_normalization_1 (Batch (None, 256, 256, 32)      128       \n_________________________________________________________________\nmax_pooling2d_1 (MaxPooling2 (None, 85, 85, 32)        0         \n_________________________________________________________________\ndropout_1 (Dropout)          (None, 85, 85, 32)        0         \n_________________________________________________________________\nconv2d_2 (Conv2D)            (None, 85, 85, 64)        18496     \n_________________________________________________________________\nactivation_2 (Activation)    (None, 85, 85, 64)        0         \n_________________________________________________________________\nbatch_normalization_2 (Batch (None, 85, 85, 64)        256       \n_________________________________________________________________\nconv2d_3 (Conv2D)            (None, 85, 85, 64)        36928     \n_________________________________________________________________\nactivation_3 (Activation)    (None, 85, 85, 64)        0         \n_________________________________________________________________\nbatch_normalization_3 (Batch (None, 85, 85, 64)        256       \n_________________________________________________________________\nmax_pooling2d_2 (MaxPooling2 (None, 42, 42, 64)        0         \n_________________________________________________________________\ndropout_2 (Dropout)          (None, 42, 42, 64)        0         \n_________________________________________________________________\nconv2d_4 (Conv2D)            (None, 42, 42, 128)       73856     \n_________________________________________________________________\nactivation_4 (Activation)    (None, 42, 42, 128)       0         \n_________________________________________________________________\nbatch_normalization_4 (Batch (None, 42, 42, 128)       512       \n_________________________________________________________________\nconv2d_5 (Conv2D)            (None, 42, 42, 128)       147584    \n_________________________________________________________________\nactivation_5 (Activation)    (None, 42, 42, 128)       0         \n_________________________________________________________________\nbatch_normalization_5 (Batch (None, 42, 42, 128)       512       \n_________________________________________________________________\nmax_pooling2d_3 (MaxPooling2 (None, 21, 21, 128)       0         \n_________________________________________________________________\ndropout_3 (Dropout)          (None, 21, 21, 128)       0         \n_________________________________________________________________\nflatten_1 (Flatten)          (None, 56448)             0         \n_________________________________________________________________\ndense_1 (Dense)              (None, 1024)              57803776  \n_________________________________________________________________\nactivation_6 (Activation)    (None, 1024)              0         \n_________________________________________________________________\nbatch_normalization_6 (Batch (None, 1024)              4096      \n_________________________________________________________________\ndropout_4 (Dropout)          (None, 1024)              0         \n_________________________________________________________________\ndense_2 (Dense)              (None, 15)                15375     \n_________________________________________________________________\nactivation_7 (Activation)    (None, 15)                0         \n=================================================================\nTotal params: 58,102,671\nTrainable params: 58,099,791\nNon-trainable params: 2,880\n_________________________________________________________________\n",
          "output_type": "stream"
        }
      ]
    },
    {
      "cell_type": "code",
      "source": [
        "opt = Adam(lr=INIT_LR, decay=INIT_LR / EPOCHS)\n",
        "# distribution\n",
        "model.compile(loss=\"binary_crossentropy\", optimizer=opt,metrics=[\"accuracy\"])\n",
        "# train the network\n",
        "print(\"[INFO] training network...\")"
      ],
      "metadata": {
        "_uuid": "b21dffee32c325136b4ea23ac511049723f34a24",
        "execution": {
          "iopub.status.busy": "2023-10-26T14:27:46.122567Z",
          "iopub.execute_input": "2023-10-26T14:27:46.122988Z",
          "iopub.status.idle": "2023-10-26T14:27:46.186722Z",
          "shell.execute_reply.started": "2023-10-26T14:27:46.122916Z",
          "shell.execute_reply": "2023-10-26T14:27:46.185630Z"
        },
        "trusted": true,
        "id": "kYCm4nflcF7m",
        "outputId": "9fde3885-1df1-406d-c954-e03c97d61794"
      },
      "execution_count": null,
      "outputs": [
        {
          "name": "stdout",
          "text": "[INFO] training network...\n",
          "output_type": "stream"
        }
      ]
    },
    {
      "cell_type": "code",
      "source": [
        "history = model.fit_generator(\n",
        "    aug.flow(x_train, y_train, batch_size=BS),\n",
        "    validation_data=(x_test, y_test),\n",
        "    steps_per_epoch=len(x_train) // BS,\n",
        "    epochs=EPOCHS, verbose=1\n",
        "    )"
      ],
      "metadata": {
        "_uuid": "1a13efc5ded339fc3c0d9e61041e8ca555362db0",
        "execution": {
          "iopub.status.busy": "2023-10-26T14:27:54.054372Z",
          "iopub.execute_input": "2023-10-26T14:27:54.054823Z"
        },
        "trusted": true,
        "id": "Y_XQDf4kcF7m"
      },
      "execution_count": null,
      "outputs": []
    },
    {
      "cell_type": "markdown",
      "source": [
        "Plot the train and val curve"
      ],
      "metadata": {
        "_uuid": "1495fea08b37e4d4293f975ba30e6c1fc7a85ed9",
        "id": "rfreBpCNcF7m"
      }
    },
    {
      "cell_type": "code",
      "source": [
        "acc = history.history['acc']\n",
        "val_acc = history.history['val_acc']\n",
        "loss = history.history['loss']\n",
        "val_loss = history.history['val_loss']\n",
        "epochs = range(1, len(acc) + 1)\n",
        "#Train and validation accuracy\n",
        "plt.plot(epochs, acc, 'b', label='Training accurarcy')\n",
        "plt.plot(epochs, val_acc, 'r', label='Validation accurarcy')\n",
        "plt.title('Training and Validation accurarcy')\n",
        "plt.legend()\n",
        "\n",
        "plt.figure()\n",
        "#Train and validation loss\n",
        "plt.plot(epochs, loss, 'b', label='Training loss')\n",
        "plt.plot(epochs, val_loss, 'r', label='Validation loss')\n",
        "plt.title('Training and Validation loss')\n",
        "plt.legend()\n",
        "plt.show()"
      ],
      "metadata": {
        "_uuid": "0af5e0f23657a4effc2d21cf8e840e81f42ec8e7",
        "execution": {
          "iopub.status.busy": "2023-10-26T14:27:30.803892Z",
          "iopub.status.idle": "2023-10-26T14:27:30.804662Z"
        },
        "trusted": true,
        "id": "Xd5trL2KcF7m"
      },
      "execution_count": null,
      "outputs": []
    },
    {
      "cell_type": "markdown",
      "source": [
        "Model Accuracy"
      ],
      "metadata": {
        "_uuid": "9ca1a4489bd624c69a13cd37c0c2306ac8de55c2",
        "id": "tynsnctzcF7m"
      }
    },
    {
      "cell_type": "code",
      "source": [
        "print(\"[INFO] Calculating model accuracy\")\n",
        "scores = model.evaluate(x_test, y_test)\n",
        "print(f\"Test Accuracy: {scores[1]*100}\")"
      ],
      "metadata": {
        "_uuid": "bb44f3d0b7e2862bc7d1a032612ebfd48212c1fe",
        "execution": {
          "iopub.status.busy": "2023-10-26T14:27:30.805780Z",
          "iopub.status.idle": "2023-10-26T14:27:30.806578Z"
        },
        "trusted": true,
        "id": "1zxKjSUvcF7n"
      },
      "execution_count": null,
      "outputs": []
    },
    {
      "cell_type": "markdown",
      "source": [
        "Save model using Pickle"
      ],
      "metadata": {
        "_uuid": "2a1f759db8afe933e62fe4cf8332cb303bb11be8",
        "id": "wwSHIGHJcF7n"
      }
    },
    {
      "cell_type": "code",
      "source": [
        "# save the model to disk\n",
        "print(\"[INFO] Saving model...\")\n",
        "pickle.dump(model,open('cnn_model.pkl', 'wb'))"
      ],
      "metadata": {
        "_uuid": "5cdf06adf492d79ed28fbdc36e02ad7489c7b33e",
        "execution": {
          "iopub.status.busy": "2023-10-26T14:27:30.807483Z",
          "iopub.status.idle": "2023-10-26T14:27:30.807900Z"
        },
        "trusted": true,
        "id": "GGqnsmi_cF7n"
      },
      "execution_count": null,
      "outputs": []
    }
  ]
}